{
 "cells": [
  {
   "cell_type": "markdown",
   "metadata": {},
   "source": [
    "# cstdlib\n",
    "http://www.cplusplus.com/reference/cstdlib/ <br>\n",
    "This header defines several general purpose functions, including dynamic memory management, random number generation, communication with the environment, integer arithmetics, searching, sorting and converting."
   ]
  },
  {
   "cell_type": "markdown",
   "metadata": {},
   "source": [
    "## Pseudo-random sequence generation"
   ]
  },
  {
   "cell_type": "markdown",
   "metadata": {},
   "source": [
    "```C++\n",
    "#include <iostream>\n",
    "#include <cstdlib>\n",
    "#include <time.h>\n",
    "\n",
    "using namespace std;\n",
    "\n",
    "int main ()\n",
    "{\n",
    "    cout << \"Generate random number: \" << rand() << endl; // Generate random number\n",
    "\n",
    "    cout << \"Generate random number between 1 and 10: \" << rand() % 10 + 1 << endl; // Generate random number\n",
    "\n",
    "    srand (5); // Initialize random number generator\n",
    "    cout << \"Generate random number: \" << rand() << endl; // Generate random number\n",
    "\n",
    "    srand (time(NULL)); // Initialize random number generator\n",
    "    cout << \"Generate random number: \" << rand() << endl; // Generate random number\n",
    "\n",
    "    return 0;\n",
    "}\n",
    "```"
   ]
  },
  {
   "cell_type": "raw",
   "metadata": {},
   "source": [
    "Generate random number: 41\n",
    "Generate random number between 1 and 10: 8\n",
    "Generate random number: 54\n",
    "Generate random number: 15964"
   ]
  },
  {
   "cell_type": "code",
   "execution_count": null,
   "metadata": {
    "collapsed": true
   },
   "outputs": [],
   "source": []
  }
 ],
 "metadata": {
  "anaconda-cloud": {},
  "kernelspec": {
   "display_name": "Python [default]",
   "language": "python",
   "name": "python2"
  },
  "language_info": {
   "codemirror_mode": {
    "name": "ipython",
    "version": 2
   },
   "file_extension": ".py",
   "mimetype": "text/x-python",
   "name": "python",
   "nbconvert_exporter": "python",
   "pygments_lexer": "ipython2",
   "version": "2.7.12"
  }
 },
 "nbformat": 4,
 "nbformat_minor": 1
}

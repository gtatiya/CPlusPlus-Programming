{
 "cells": [
  {
   "cell_type": "markdown",
   "metadata": {},
   "source": [
    "# ctime\n",
    "http://www.cplusplus.com/reference/ctime/ <br>\n",
    "This header file contains definitions of functions to get and manipulate date and time information."
   ]
  },
  {
   "cell_type": "markdown",
   "metadata": {},
   "source": [
    "## Time manipulation"
   ]
  },
  {
   "cell_type": "markdown",
   "metadata": {},
   "source": [
    "```C++\n",
    "#include <iostream>\n",
    "#include <ctime>\n",
    "\n",
    "using namespace std;\n",
    "\n",
    "int main ()\n",
    "{\n",
    "  clock_t t;\n",
    "  t = clock(); // number of clock ticks elapsed since an epoch related to the particular program execution\n",
    "  \n",
    "  // code to pass some time\n",
    "  int j;\n",
    "  for (int i=0; i<=1000000000; ++i) j++;\n",
    "  \n",
    "  t = clock() - t;\n",
    "  cout << \"It took me \" << t << \" clicks (\" << ((float)t)/CLOCKS_PER_SEC << \" seconds).\\n\"; // CLOCKS_PER_SEC = number of clock ticks per second\n",
    "  \n",
    "  time_t timer; // fundamental arithmetic type capable of representing times\n",
    "  time(&timer);  /* get current time; same as: timer = time(NULL)  */\n",
    "  cout << timer << \" seconds since since 00:00 hours, Jan 1, 1970 UTC (i.e., the current unix timestamp)\\n\";\n",
    "  cout << time(NULL) << \" seconds since since 00:00 hours, Jan 1, 1970 UTC (i.e., the current unix timestamp)\";\n",
    "\n",
    "  return 0;\n",
    "  }\n",
    "```"
   ]
  },
  {
   "cell_type": "raw",
   "metadata": {},
   "source": [
    "It took me 2682977 clicks (2.68298 seconds).\n",
    "1484957952 seconds since since 00:00 hours, Jan 1, 1970 UTC (i.e., the current unix timestamp)\n",
    "1484957952 seconds since since 00:00 hours, Jan 1, 1970 UTC (i.e., the current unix timestamp) "
   ]
  },
  {
   "cell_type": "code",
   "execution_count": null,
   "metadata": {
    "collapsed": true
   },
   "outputs": [],
   "source": []
  }
 ],
 "metadata": {
  "anaconda-cloud": {},
  "kernelspec": {
   "display_name": "Python [default]",
   "language": "python",
   "name": "python2"
  },
  "language_info": {
   "codemirror_mode": {
    "name": "ipython",
    "version": 2
   },
   "file_extension": ".py",
   "mimetype": "text/x-python",
   "name": "python",
   "nbconvert_exporter": "python",
   "pygments_lexer": "ipython2",
   "version": "2.7.12"
  }
 },
 "nbformat": 4,
 "nbformat_minor": 1
}

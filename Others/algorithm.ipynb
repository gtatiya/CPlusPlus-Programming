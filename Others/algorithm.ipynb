{
 "cells": [
  {
   "cell_type": "markdown",
   "metadata": {
    "collapsed": true
   },
   "source": [
    "# algorithm\n",
    "http://www.cplusplus.com/reference/algorithm/\n",
    "\n",
    "The header <algorithm> defines a collection of functions especially designed to be used on ranges of elements."
   ]
  },
  {
   "cell_type": "markdown",
   "metadata": {},
   "source": [
    "## Non-modifying sequence operations:"
   ]
  },
  {
   "cell_type": "markdown",
   "metadata": {},
   "source": [
    "### find\n",
    "http://www.cplusplus.com/reference/algorithm/find/ <br>\n",
    "find (InputIterator first, InputIterator last, const T& val); <br>\n",
    "Returns an iterator to the first element in the range [first,last) that compares equal to val. If no such element is found, the function returns last.\n",
    "\n",
    "*** Return value *** <br>\n",
    "An iterator to the first element in the range that compares equal to val.\n",
    "If no elements match, the function returns last."
   ]
  },
  {
   "cell_type": "markdown",
   "metadata": {},
   "source": [
    "```C++\n",
    "#include <iostream>     // std::cout\n",
    "#include <algorithm>    // std::find\n",
    "#include <vector>       // std::vector\n",
    "\n",
    "int main () {\n",
    "  // using std::find with array and pointer:\n",
    "  int myints[] = { 10, 20, 30, 40 };\n",
    "  int * p;\n",
    "\n",
    "  p = std::find (myints, myints+4, 30);\n",
    "  if (p != myints+4)\n",
    "    std::cout << \"Element found in myints: \" << *p << '\\n';\n",
    "  else\n",
    "    std::cout << \"Element not found in myints\\n\";\n",
    "\n",
    "  // using std::find with vector and iterator:\n",
    "  std::vector<int> myvector (myints,myints+4);\n",
    "  std::vector<int>::iterator it;\n",
    "\n",
    "  it = find (myvector.begin(), myvector.end(), 30);\n",
    "  if (it != myvector.end())\n",
    "    std::cout << \"Element found in myvector: \" << *it << '\\n';\n",
    "  else\n",
    "    std::cout << \"Element not found in myvector\\n\";\n",
    "\n",
    "  return 0;\n",
    "}\n",
    "```"
   ]
  },
  {
   "cell_type": "raw",
   "metadata": {},
   "source": [
    "Element found in myints: 30\n",
    "Element found in myvector: 30"
   ]
  },
  {
   "cell_type": "markdown",
   "metadata": {},
   "source": [
    "## Modifying sequence operations:"
   ]
  },
  {
   "cell_type": "markdown",
   "metadata": {},
   "source": [
    "### remove\n",
    "http://www.cplusplus.com/reference/algorithm/remove/ <br>\n",
    "remove (ForwardIterator first, ForwardIterator last, const T& val);<br>\n",
    "Transforms the range [first,last) into a range with all the elements that compare equal to val removed, and returns an iterator to the new end of that range.\n",
    "\n",
    "*** Return value *** <br>\n",
    "An iterator to the element that follows the last element not removed.\n",
    "The range between first and this iterator includes all the elements in the sequence that do not compare equal to val."
   ]
  },
  {
   "cell_type": "markdown",
   "metadata": {},
   "source": [
    "```C++\n",
    "// remove algorithm example\n",
    "#include <iostream>     // std::cout\n",
    "#include <algorithm>    // std::remove\n",
    "\n",
    "int main () {\n",
    "  int myints[] = {10,20,30,30,20,10,10,20};      // 10 20 30 30 20 10 10 20\n",
    "\n",
    "  // bounds of range:\n",
    "  int* pbegin = myints;                          // ^\n",
    "  int* pend = myints+sizeof(myints)/sizeof(int); // ^                       ^\n",
    "\n",
    "  pend = std::remove (pbegin, pend, 20);         // 10 30 30 10 10 ?  ?  ?\n",
    "                                                 // ^              ^\n",
    "  std::cout << \"range contains:\";\n",
    "  for (int* p=pbegin; p!=pend; ++p)\n",
    "    std::cout << ' ' << *p;\n",
    "  std::cout << '\\n';\n",
    "\n",
    "  return 0;\n",
    "}\n",
    "```"
   ]
  },
  {
   "cell_type": "raw",
   "metadata": {},
   "source": [
    "range contains: 10 30 30 10 10"
   ]
  },
  {
   "cell_type": "code",
   "execution_count": null,
   "metadata": {
    "collapsed": true
   },
   "outputs": [],
   "source": []
  }
 ],
 "metadata": {
  "anaconda-cloud": {},
  "kernelspec": {
   "display_name": "Python [default]",
   "language": "python",
   "name": "python2"
  },
  "language_info": {
   "codemirror_mode": {
    "name": "ipython",
    "version": 2
   },
   "file_extension": ".py",
   "mimetype": "text/x-python",
   "name": "python",
   "nbconvert_exporter": "python",
   "pygments_lexer": "ipython2",
   "version": "2.7.12"
  }
 },
 "nbformat": 4,
 "nbformat_minor": 1
}

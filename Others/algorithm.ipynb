{
 "cells": [
  {
   "cell_type": "markdown",
   "metadata": {
    "collapsed": true
   },
   "source": [
    "# algorithm\n",
    "http://www.cplusplus.com/reference/algorithm/\n",
    "\n",
    "The header <algorithm> defines a collection of functions especially designed to be used on ranges of elements."
   ]
  },
  {
   "cell_type": "markdown",
   "metadata": {},
   "source": [
    "## Modifying sequence operations:"
   ]
  },
  {
   "cell_type": "markdown",
   "metadata": {},
   "source": [
    "### remove\n",
    "http://www.cplusplus.com/reference/algorithm/remove/ <br>\n",
    "remove (ForwardIterator first, ForwardIterator last, const T& val);<br>\n",
    "Transforms the range [first,last) into a range with all the elements that compare equal to val removed, and returns an iterator to the new end of that range."
   ]
  },
  {
   "cell_type": "markdown",
   "metadata": {},
   "source": [
    "```C++\n",
    "// remove algorithm example\n",
    "#include <iostream>     // std::cout\n",
    "#include <algorithm>    // std::remove\n",
    "\n",
    "int main () {\n",
    "  int myints[] = {10,20,30,30,20,10,10,20};      // 10 20 30 30 20 10 10 20\n",
    "\n",
    "  // bounds of range:\n",
    "  int* pbegin = myints;                          // ^\n",
    "  int* pend = myints+sizeof(myints)/sizeof(int); // ^                       ^\n",
    "\n",
    "  pend = std::remove (pbegin, pend, 20);         // 10 30 30 10 10 ?  ?  ?\n",
    "                                                 // ^              ^\n",
    "  std::cout << \"range contains:\";\n",
    "  for (int* p=pbegin; p!=pend; ++p)\n",
    "    std::cout << ' ' << *p;\n",
    "  std::cout << '\\n';\n",
    "\n",
    "  return 0;\n",
    "}\n",
    "```"
   ]
  },
  {
   "cell_type": "raw",
   "metadata": {},
   "source": [
    "range contains: 10 30 30 10 10"
   ]
  },
  {
   "cell_type": "code",
   "execution_count": null,
   "metadata": {
    "collapsed": true
   },
   "outputs": [],
   "source": []
  }
 ],
 "metadata": {
  "anaconda-cloud": {},
  "kernelspec": {
   "display_name": "Python [default]",
   "language": "python",
   "name": "python2"
  },
  "language_info": {
   "codemirror_mode": {
    "name": "ipython",
    "version": 2
   },
   "file_extension": ".py",
   "mimetype": "text/x-python",
   "name": "python",
   "nbconvert_exporter": "python",
   "pygments_lexer": "ipython2",
   "version": "2.7.12"
  }
 },
 "nbformat": 4,
 "nbformat_minor": 1
}

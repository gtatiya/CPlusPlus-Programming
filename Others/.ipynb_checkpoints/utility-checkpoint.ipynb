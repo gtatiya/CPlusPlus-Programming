{
 "cells": [
  {
   "cell_type": "markdown",
   "metadata": {
    "collapsed": false
   },
   "source": [
    "# utility\n",
    "http://www.cplusplus.com/reference/utility/ <br>\n",
    "\n",
    "Pairs: objects that can hold two values of different types: pair, make_pair, piecewise_construct, piecewise_construct_t.<br>\n",
    "Generic relational operators: Standard definitions for the relational operators !=, >, <= and >= under a specific namespace: rel_ops.<br>\n",
    "Rvalue casts (C++11): Allow the generation of rvalue references: forward, move, move_if_noexcept, declval.<br>\n",
    "Generic swap function: definition used by default by the components of the standard library for all types that do not provide their own overload: swap."
   ]
  },
  {
   "cell_type": "markdown",
   "metadata": {
    "collapsed": true
   },
   "source": [
    "## Functions"
   ]
  },
  {
   "cell_type": "markdown",
   "metadata": {},
   "source": [
    "```C++\n",
    "#include <utility>      // std::move\n",
    "#include <iostream>     // std::cout\n",
    "#include <vector>       // std::vector\n",
    "#include <string>       // std::string\n",
    "\n",
    "using namespace std;\n",
    "\n",
    "int main () {\n",
    "  std::string foo = \"foo-string\";\n",
    "  std::string bar = \"bar-string\";\n",
    "  std::vector<std::string> myvector;\n",
    "\n",
    "  myvector.push_back (foo);                    // copies\n",
    "  std::cout << \"bar: \" << bar << endl;\n",
    "  myvector.push_back (std::move(bar));         // moves\n",
    "  std::cout << \"bar: \" << bar << endl;\n",
    "\n",
    "  std::cout << \"myvector contains:\";\n",
    "  for (std::string& x:myvector) std::cout << ' ' << x;\n",
    "\n",
    "  return 0;\n",
    "}\n",
    "```"
   ]
  },
  {
   "cell_type": "raw",
   "metadata": {},
   "source": [
    "bar: bar-string\n",
    "bar:\n",
    "myvector contains: foo-string bar-string"
   ]
  },
  {
   "cell_type": "code",
   "execution_count": null,
   "metadata": {
    "collapsed": true
   },
   "outputs": [],
   "source": []
  }
 ],
 "metadata": {
  "anaconda-cloud": {},
  "kernelspec": {
   "display_name": "Python [default]",
   "language": "python",
   "name": "python2"
  },
  "language_info": {
   "codemirror_mode": {
    "name": "ipython",
    "version": 2
   },
   "file_extension": ".py",
   "mimetype": "text/x-python",
   "name": "python",
   "nbconvert_exporter": "python",
   "pygments_lexer": "ipython2",
   "version": "2.7.12"
  }
 },
 "nbformat": 4,
 "nbformat_minor": 1
}

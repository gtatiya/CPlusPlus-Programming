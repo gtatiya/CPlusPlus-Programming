{
 "cells": [
  {
   "cell_type": "markdown",
   "metadata": {
    "collapsed": false
   },
   "source": [
    "# pair\n",
    "http://www.cplusplus.com/reference/utility/pair/ <br>\n",
    "Pair of values\n",
    "This class couples together a pair of values, which may be of different types (T1 and T2). The individual values can be accessed through its public members **first and second.**\n",
    "\n",
    "Pairs are a particular case of tuple."
   ]
  },
  {
   "cell_type": "markdown",
   "metadata": {
    "collapsed": true
   },
   "source": [
    "## Non-member function overloads"
   ]
  },
  {
   "cell_type": "markdown",
   "metadata": {},
   "source": [
    "```C++\n",
    "#include <utility>\n",
    "#include <iostream>\n",
    "\n",
    "using namespace std;\n",
    "\n",
    "int main () {\n",
    "  pair<int,char> foo (10,'z');\n",
    "  pair<int,char> bar (90,'a');\n",
    "\n",
    "  cout << \"foo contains: \" << foo.first;\n",
    "  cout << \" and \" << foo.second << '\\n';\n",
    "\n",
    "  cout << \"bar contains: \" << bar.first;\n",
    "  cout << \" and \" << bar.second << '\\n';\n",
    "\n",
    "  /**************** std::relational operators (pair) ***************/\n",
    "  // Performs the appropriate comparison operation between the pair objects lhs and rhs.\n",
    "  // If lhs.first<rhs.first, returns true. Otherwise, if rhs.first<lhs.first, returns false. Otherwise, if lhs.second<rhs.second, returns true. Otherwise, returns false.\n",
    "\n",
    "  if (foo==bar) cout << \"foo and bar are equal\\n\";\n",
    "  if (foo!=bar) cout << \"foo and bar are not equal\\n\";\n",
    "  if (foo< bar) cout << \"foo is less than bar\\n\";\n",
    "  if (foo> bar) cout << \"foo is greater than bar\\n\";\n",
    "  if (foo<=bar) cout << \"foo is less than or equal to bar\\n\";\n",
    "  if (foo>=bar) cout << \"foo is greater than or equal to bar\\n\";\n",
    "  /**************** std::relational operators (pair) ***************/\n",
    "\n",
    "  swap (foo,bar); // Exchanges the contents of two pairs\n",
    "\n",
    "  cout << \"foo contains: \" << foo.first;\n",
    "  cout << \" and \" << foo.second << '\\n';\n",
    "\n",
    "  get<0>(foo) = 50; // Returns a reference to member first if I is 0, or a reference to member second if I is 1.\n",
    "  foo.second = 's';\n",
    "\n",
    "  cout << \"foo contains: \";\n",
    "  cout << get<0>(foo) << \" and \" << get<1>(foo) << '\\n';\n",
    "\n",
    "  return 0;\n",
    "}\n",
    "```"
   ]
  },
  {
   "cell_type": "raw",
   "metadata": {},
   "source": [
    "foo contains: 10 and z\n",
    "bar contains: 90 and a\n",
    "foo and bar are not equal\n",
    "foo is less than bar\n",
    "foo is less than or equal to bar\n",
    "foo contains: 90 and a\n",
    "foo contains: 50 and s"
   ]
  },
  {
   "cell_type": "code",
   "execution_count": null,
   "metadata": {
    "collapsed": true
   },
   "outputs": [],
   "source": []
  }
 ],
 "metadata": {
  "anaconda-cloud": {},
  "kernelspec": {
   "display_name": "Python [default]",
   "language": "python",
   "name": "python2"
  },
  "language_info": {
   "codemirror_mode": {
    "name": "ipython",
    "version": 2
   },
   "file_extension": ".py",
   "mimetype": "text/x-python",
   "name": "python",
   "nbconvert_exporter": "python",
   "pygments_lexer": "ipython2",
   "version": "2.7.12"
  }
 },
 "nbformat": 4,
 "nbformat_minor": 1
}

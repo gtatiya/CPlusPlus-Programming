{
 "cells": [
  {
   "cell_type": "markdown",
   "metadata": {
    "collapsed": false
   },
   "source": [
    "# Iterator\n",
    "http://www.cplusplus.com/reference/iterator/\n",
    "\n",
    "An iterator is any object that, pointing to some element in a range of elements (such as an array or a container), has the ability to iterate through the elements of that range using a set of operators (with at least the increment (++) and dereference (*) operators).\n",
    "\n",
    "The most obvious form of iterator is a pointer: A pointer can point to elements in an array, and can iterate through them using the increment operator (++). But other kinds of iterators are possible. For example, each container type (such as a list) has a specific iterator type designed to iterate through its elements.\n",
    "\n",
    "Notice that while a pointer is a form of iterator, not all iterators have the same functionality of pointers; Depending on the properties supported by iterators, they are classified into **five** different categories:"
   ]
  },
  {
   "cell_type": "markdown",
   "metadata": {
    "collapsed": true
   },
   "source": [
    "## Iterator categories"
   ]
  },
  {
   "cell_type": "markdown",
   "metadata": {},
   "source": [
    "```C++\n",
    "// iterator.cpp by Bill Weinman <http://bw.org/>\n",
    "#include <iostream>\n",
    "#include <vector>\n",
    "using namespace std;\n",
    "\n",
    "int main( int argc, char ** argv ) {\n",
    "    vector<int> vi1 = { 1, 2, 3, 4, 5, 6, 7, 8, 9, 10 };\n",
    "    vector<int>::iterator it;   // vector iterator\n",
    "    \n",
    "    // input iterator\n",
    "    cout << \"input iterator:\" << endl;\n",
    "    for(it = vi1.begin(); it < vi1.end(); ++it) {\n",
    "        cout << *it << \" \";\n",
    "    }\n",
    "    cout << endl;\n",
    "    \n",
    "    // save start and end points\n",
    "    vector<int>::iterator start = vi1.begin();\n",
    "    vector<int>::iterator end = vi1.end();\n",
    "    \n",
    "    // output iterator\n",
    "    cout << \"output iterator:\" << endl;\n",
    "    for(it = start; it < end; it++) {\n",
    "        cout << ++(*it) << \" \";\n",
    "        --(*it);\n",
    "    }\n",
    "    cout << endl;\n",
    "    \n",
    "    // forward iterator allows re-iteration of same set with same results\n",
    "    cout << \"forward iterator:\" << endl;\n",
    "    for(it = start; it < end; ++it) {\n",
    "        cout << *it << \" \";\n",
    "    }\n",
    "    for(it = start; it < end; ++it) {\n",
    "        cout << *it << \" \";\n",
    "    }\n",
    "    cout << endl;\n",
    "    \n",
    "    // bidirectional iterator -- iterate forward or backward\n",
    "    // allows it--\n",
    "    cout << \"bidirectional iterator:\" << endl;\n",
    "    for(it = end - 1; it >= start; --it) {\n",
    "        cout << *it << \" \";\n",
    "    }\n",
    "    cout << endl;\n",
    "    \n",
    "    // random access iterator\n",
    "    // allows += and -= access\n",
    "    cout << \"random access iterator:\" << endl;\n",
    "    it = start + 7;\n",
    "    cout << *it << \" \";\n",
    "    it -= 3;\n",
    "    cout << *it << \" \";\n",
    "    it += 4;\n",
    "    cout << *it << \" \";\n",
    "    cout << vi1[5] << \" \";\n",
    "    cout << endl;\n",
    "    \n",
    "    return 0;\n",
    "}\n",
    "```"
   ]
  },
  {
   "cell_type": "raw",
   "metadata": {},
   "source": [
    "input iterator:\n",
    "1 2 3 4 5 6 7 8 9 10 \n",
    "output iterator:\n",
    "2 3 4 5 6 7 8 9 10 11 \n",
    "forward iterator:\n",
    "1 2 3 4 5 6 7 8 9 10 1 2 3 4 5 6 7 8 9 10 \n",
    "bidirectional iterator:\n",
    "10 9 8 7 6 5 4 3 2 1 \n",
    "random access iterator:"
   ]
  },
  {
   "cell_type": "code",
   "execution_count": null,
   "metadata": {
    "collapsed": true
   },
   "outputs": [],
   "source": []
  }
 ],
 "metadata": {
  "anaconda-cloud": {},
  "kernelspec": {
   "display_name": "Python [default]",
   "language": "python",
   "name": "python2"
  },
  "language_info": {
   "codemirror_mode": {
    "name": "ipython",
    "version": 2
   },
   "file_extension": ".py",
   "mimetype": "text/x-python",
   "name": "python",
   "nbconvert_exporter": "python",
   "pygments_lexer": "ipython2",
   "version": "2.7.12"
  }
 },
 "nbformat": 4,
 "nbformat_minor": 1
}

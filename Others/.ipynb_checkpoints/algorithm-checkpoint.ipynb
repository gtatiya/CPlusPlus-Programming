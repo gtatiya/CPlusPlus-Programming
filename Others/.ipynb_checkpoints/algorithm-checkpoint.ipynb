{
 "cells": [
  {
   "cell_type": "markdown",
   "metadata": {
    "collapsed": true
   },
   "source": [
    "# algorithm\n",
    "http://www.cplusplus.com/reference/algorithm/\n",
    "\n",
    "The header <algorithm> defines a collection of functions especially designed to be used on ranges of elements."
   ]
  },
  {
   "cell_type": "markdown",
   "metadata": {},
   "source": [
    "## Non-modifying sequence operations:"
   ]
  },
  {
   "cell_type": "markdown",
   "metadata": {},
   "source": [
    "### find\n",
    "http://www.cplusplus.com/reference/algorithm/find/ <br>\n",
    "find (InputIterator first, InputIterator last, const T& val); <br>\n",
    "Returns an iterator to the first element in the range [first,last) that compares equal to val. If no such element is found, the function returns last.\n",
    "\n",
    "*** Return value *** <br>\n",
    "An iterator to the first element in the range that compares equal to val.\n",
    "If no elements match, the function returns last."
   ]
  },
  {
   "cell_type": "markdown",
   "metadata": {},
   "source": [
    "```C++\n",
    "#include <iostream>     // std::cout\n",
    "#include <algorithm>    // std::find\n",
    "#include <vector>       // std::vector\n",
    "\n",
    "int main () {\n",
    "  // using std::find with array and pointer:\n",
    "  int myints[] = { 10, 20, 30, 40 };\n",
    "  int * p;\n",
    "\n",
    "  p = std::find (myints, myints+4, 30);\n",
    "  if (p != myints+4)\n",
    "    std::cout << \"Element found in myints: \" << *p << '\\n';\n",
    "  else\n",
    "    std::cout << \"Element not found in myints\\n\";\n",
    "\n",
    "  // using std::find with vector and iterator:\n",
    "  std::vector<int> myvector (myints,myints+4);\n",
    "  std::vector<int>::iterator it;\n",
    "\n",
    "  it = find (myvector.begin(), myvector.end(), 30);\n",
    "  if (it != myvector.end())\n",
    "    std::cout << \"Element found in myvector: \" << *it << '\\n';\n",
    "  else\n",
    "    std::cout << \"Element not found in myvector\\n\";\n",
    "\n",
    "  return 0;\n",
    "}\n",
    "```"
   ]
  },
  {
   "cell_type": "raw",
   "metadata": {},
   "source": [
    "Element found in myints: 30\n",
    "Element found in myvector: 30"
   ]
  },
  {
   "cell_type": "markdown",
   "metadata": {},
   "source": [
    "## Modifying sequence operations:"
   ]
  },
  {
   "cell_type": "markdown",
   "metadata": {},
   "source": [
    "### remove\n",
    "http://www.cplusplus.com/reference/algorithm/remove/ <br>\n",
    "remove (ForwardIterator first, ForwardIterator last, const T& val);<br>\n",
    "Transforms the range [first,last) into a range with all the elements that compare equal to val removed, and returns an iterator to the new end of that range.\n",
    "\n",
    "*** Return value *** <br>\n",
    "An iterator to the element that follows the last element not removed.\n",
    "The range between first and this iterator includes all the elements in the sequence that do not compare equal to val."
   ]
  },
  {
   "cell_type": "markdown",
   "metadata": {},
   "source": [
    "```C++\n",
    "// remove algorithm example\n",
    "#include <iostream>     // std::cout\n",
    "#include <algorithm>    // std::remove\n",
    "\n",
    "int main () {\n",
    "  int myints[] = {10,20,30,30,20,10,10,20};      // 10 20 30 30 20 10 10 20\n",
    "\n",
    "  // bounds of range:\n",
    "  int* pbegin = myints;                          // ^\n",
    "  int* pend = myints+sizeof(myints)/sizeof(int); // ^                       ^\n",
    "\n",
    "  pend = std::remove (pbegin, pend, 20);         // 10 30 30 10 10 ?  ?  ?\n",
    "                                                 // ^              ^\n",
    "  std::cout << \"range contains:\";\n",
    "  for (int* p=pbegin; p!=pend; ++p)\n",
    "    std::cout << ' ' << *p;\n",
    "  std::cout << '\\n';\n",
    "\n",
    "  return 0;\n",
    "}\n",
    "```"
   ]
  },
  {
   "cell_type": "raw",
   "metadata": {},
   "source": [
    "range contains: 10 30 30 10 10"
   ]
  },
  {
   "cell_type": "markdown",
   "metadata": {
    "collapsed": true
   },
   "source": [
    "## Sorting:"
   ]
  },
  {
   "cell_type": "markdown",
   "metadata": {},
   "source": [
    "### sort\n",
    "http://www.cplusplus.com/reference/algorithm/sort/ <br>\n",
    "\n",
    "default (1): sort (RandomAccessIterator first, RandomAccessIterator last); <br>\n",
    "custom (2): sort (RandomAccessIterator first, RandomAccessIterator last, Compare comp); <br>\n",
    "\n",
    "Sorts the elements in the range [first,last) into ascending order.\n",
    "The elements are compared using operator< for the first version, and comp for the second."
   ]
  },
  {
   "cell_type": "markdown",
   "metadata": {},
   "source": [
    "```C++\n",
    "#include <iostream>     // std::cout\n",
    "#include <algorithm>    // std::sort\n",
    "#include <vector>       // std::vector\n",
    "\n",
    "bool myfunction (int i,int j) { return (i<j); }\n",
    "\n",
    "struct myclass {\n",
    "  bool operator() (int i,int j) { return (i<j);}\n",
    "} myobject;\n",
    "\n",
    "int main () {\n",
    "  int myints[] = {32,71,12,45,26,80,53,33};\n",
    "  std::vector<int> myvector (myints, myints+8);               // 32 71 12 45 26 80 53 33\n",
    "\n",
    "  // using default comparison (operator <):\n",
    "  std::sort (myvector.begin(), myvector.begin()+4);           //(12 32 45 71)26 80 53 33\n",
    "\n",
    "  // using function as comp\n",
    "  std::sort (myvector.begin()+4, myvector.end(), myfunction); // 12 32 45 71(26 33 53 80)\n",
    "\n",
    "  // using object as comp\n",
    "  std::sort (myvector.begin(), myvector.end(), myobject);     //(12 26 32 33 45 53 71 80)\n",
    "\n",
    "  // print out content:\n",
    "  std::cout << \"myvector contains:\";\n",
    "  for (std::vector<int>::iterator it=myvector.begin(); it!=myvector.end(); ++it)\n",
    "    std::cout << ' ' << *it;\n",
    "  std::cout << '\\n';\n",
    "\n",
    "  return 0;\n",
    "}\n",
    "```"
   ]
  },
  {
   "cell_type": "raw",
   "metadata": {},
   "source": [
    "myvector contains: 12 26 32 33 45 53 71 80"
   ]
  },
  {
   "cell_type": "code",
   "execution_count": null,
   "metadata": {
    "collapsed": true
   },
   "outputs": [],
   "source": []
  }
 ],
 "metadata": {
  "anaconda-cloud": {},
  "kernelspec": {
   "display_name": "Python [default]",
   "language": "python",
   "name": "python2"
  },
  "language_info": {
   "codemirror_mode": {
    "name": "ipython",
    "version": 2
   },
   "file_extension": ".py",
   "mimetype": "text/x-python",
   "name": "python",
   "nbconvert_exporter": "python",
   "pygments_lexer": "ipython2",
   "version": "2.7.12"
  }
 },
 "nbformat": 4,
 "nbformat_minor": 1
}

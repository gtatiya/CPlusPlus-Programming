{
 "cells": [
  {
   "cell_type": "markdown",
   "metadata": {},
   "source": [
    "# Implement an automatically resizing vector."
   ]
  },
  {
   "cell_type": "markdown",
   "metadata": {
    "collapsed": false
   },
   "source": [
    "```C++\n",
    "#include <iostream>\n",
    "#include <vector>\n",
    "\n",
    "using namespace std;\n",
    "\n",
    "int main(){\n",
    "    vector<int> DynamicArray;\n",
    "    \n",
    "    cout << \"capacity: \" << DynamicArray.capacity() << '\\n';\n",
    "    cout << \"size: \" << DynamicArray.size() << '\\n';\n",
    "    \n",
    "    for (int i=0; i<10; i++) DynamicArray.push_back(i);\n",
    "\n",
    "    cout << \"capacity: \" << DynamicArray.capacity() << '\\n';\n",
    "    cout << \"size: \" << DynamicArray.size() << '\\n';\n",
    "\n",
    "    return 0;\n",
    "}\n",
    "```"
   ]
  },
  {
   "cell_type": "raw",
   "metadata": {
    "collapsed": true
   },
   "source": [
    "capacity: 0\n",
    "size: 0\n",
    "capacity: 16\n",
    "size: 10"
   ]
  },
  {
   "cell_type": "markdown",
   "metadata": {},
   "source": [
    "# Practice coding using arrays and pointers, and pointer math to jump to an index instead of using indexing."
   ]
  },
  {
   "cell_type": "markdown",
   "metadata": {},
   "source": [
    "```C++\n",
    "#include <iostream>\n",
    "\n",
    "using namespace std;\n",
    "\n",
    "int main(){\n",
    "    int arr[] = {45, 56, 98};\n",
    "    int *p;\n",
    "\n",
    "    p = &arr[0];\n",
    "\n",
    "    cout << *p << endl;\n",
    "    cout << *(p+1) << endl;\n",
    "    cout << *(p+2) << endl;\n",
    "\n",
    "    return 0;\n",
    "}\n",
    "```"
   ]
  },
  {
   "cell_type": "raw",
   "metadata": {},
   "source": [
    "45\n",
    "56\n",
    "98"
   ]
  },
  {
   "cell_type": "markdown",
   "metadata": {},
   "source": [
    "# remove(item) - looks for value and removes index holding it (even if in multiple places)"
   ]
  },
  {
   "cell_type": "markdown",
   "metadata": {},
   "source": [
    "```C++\n",
    "#include <iostream>\n",
    "#include <vector>\n",
    "#include <algorithm> // std::remove\n",
    "\n",
    "using namespace std;\n",
    "\n",
    "int main(){\n",
    "  vector<int> vec = {54, 5, 65, 98, 57, 5, 65, 5, 99};\n",
    "  int int_to_remove = 5;\n",
    "  vec.erase(remove(vec.begin(), vec.end(), int_to_remove), vec.end());\n",
    "\n",
    "  for (int ix = 0 ; ix < vec.size() ; ix++) cout << vec.at(ix) << endl;\n",
    "\n",
    "  return 0;\n",
    "}\n",
    "```"
   ]
  },
  {
   "cell_type": "raw",
   "metadata": {},
   "source": [
    "54\n",
    "65\n",
    "98\n",
    "57\n",
    "65\n",
    "99"
   ]
  },
  {
   "cell_type": "code",
   "execution_count": null,
   "metadata": {
    "collapsed": true
   },
   "outputs": [],
   "source": []
  }
 ],
 "metadata": {
  "anaconda-cloud": {},
  "kernelspec": {
   "display_name": "Python [default]",
   "language": "python",
   "name": "python2"
  },
  "language_info": {
   "codemirror_mode": {
    "name": "ipython",
    "version": 2
   },
   "file_extension": ".py",
   "mimetype": "text/x-python",
   "name": "python",
   "nbconvert_exporter": "python",
   "pygments_lexer": "ipython2",
   "version": "2.7.12"
  }
 },
 "nbformat": 4,
 "nbformat_minor": 1
}

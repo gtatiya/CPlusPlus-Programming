{
 "cells": [
  {
   "cell_type": "markdown",
   "metadata": {
    "collapsed": false
   },
   "source": [
    "# value_at(index) - returns the value of the nth item (starting at 0 for first)"
   ]
  },
  {
   "cell_type": "markdown",
   "metadata": {
    "collapsed": true
   },
   "source": [
    "```C++\n",
    "#include <iostream>\n",
    "#include <list>\n",
    "\n",
    "using namespace std;\n",
    "\n",
    "int main(){\n",
    "    list<int> l = {1, 2, 3, 4, 5};\n",
    "\n",
    "    unsigned N = 2; // index of the element you want to retrieve\n",
    "\n",
    "    if (l.size() > N){\n",
    "        list<int>::iterator it = l.begin();\n",
    "        advance(it, N);\n",
    "        cout << \"Element at index \" << N << \" is: \" << *it;\n",
    "    }\n",
    "    return 0;\n",
    "}\n",
    "```"
   ]
  },
  {
   "cell_type": "raw",
   "metadata": {},
   "source": [
    "Element at index 2 is: 3"
   ]
  },
  {
   "cell_type": "markdown",
   "metadata": {},
   "source": [
    "# insert(index, value) - insert value at index, so current item at that index is pointed to by new item at index"
   ]
  },
  {
   "cell_type": "markdown",
   "metadata": {},
   "source": [
    "```C++\n",
    "#include <iostream>\n",
    "#include <list>\n",
    "\n",
    "using namespace std;\n",
    "\n",
    "int main(){\n",
    "    list<int> l = {1, 2, 3, 4, 5};\n",
    "\n",
    "    unsigned N = 2; // index of the element to replace\n",
    "\n",
    "    list<int>::iterator it = l.begin();\n",
    "\n",
    "    advance(it, N);\n",
    "\n",
    "    *it = 54; // value to insert\n",
    "\n",
    "    for (list<int>::iterator it=l.begin(); it!=l.end(); ++it) cout << ' ' << *it;\n",
    "\n",
    "    return 0;\n",
    "}\n",
    "```"
   ]
  },
  {
   "cell_type": "raw",
   "metadata": {},
   "source": [
    "1 2 54 4 5"
   ]
  },
  {
   "cell_type": "markdown",
   "metadata": {},
   "source": [
    "# erase(index) - removes node at given index"
   ]
  },
  {
   "cell_type": "markdown",
   "metadata": {},
   "source": [
    "```C++\n",
    "#include <iostream>\n",
    "#include <list>\n",
    "\n",
    "using namespace std;\n",
    "\n",
    "int main(){\n",
    "    list<int> l = {1, 2, 3, 4, 5};\n",
    "\n",
    "    unsigned N = 2; // index of the element to erase\n",
    "\n",
    "    list<int>::iterator it = l.begin();\n",
    "\n",
    "    advance(it, N);\n",
    "\n",
    "    l.erase(it); // erasing\n",
    "\n",
    "    for (list<int>::iterator it=l.begin(); it!=l.end(); ++it) cout << ' ' << *it;\n",
    "\n",
    "    return 0;\n",
    "}\n",
    "```"
   ]
  },
  {
   "cell_type": "raw",
   "metadata": {},
   "source": [
    " 1 2 4 5"
   ]
  },
  {
   "cell_type": "markdown",
   "metadata": {},
   "source": [
    "# value_n_from_end(n) - returns the value of the node at nth position from the end of the list"
   ]
  },
  {
   "cell_type": "markdown",
   "metadata": {},
   "source": [
    "```C++\n",
    "#include <iostream>\n",
    "#include <list>\n",
    "\n",
    "using namespace std;\n",
    "\n",
    "int main(){\n",
    "    list<int> l = {1, 2, 3, 4, 5};\n",
    "\n",
    "    unsigned N = 2; // index of the element at nth position from the end of the list\n",
    "\n",
    "    list<int>::iterator it = l.begin();\n",
    "\n",
    "    if (l.size() > N){\n",
    "    N = l.size() - N;\n",
    "    advance(it, N);\n",
    "    cout << \"Element at index \" << N - 1 << \" from the end of the list is: \" << *it << endl;\n",
    "    }\n",
    "    \n",
    "    return 0;\n",
    "}\n",
    "```"
   ]
  },
  {
   "cell_type": "raw",
   "metadata": {},
   "source": [
    "Element at index 2 from the end of the list is: 4"
   ]
  },
  {
   "cell_type": "markdown",
   "metadata": {},
   "source": [
    "## reverse() - reverses the list"
   ]
  },
  {
   "cell_type": "raw",
   "metadata": {},
   "source": [
    "There's a function in C++: reverse() - http://www.cplusplus.com/reference/algorithm/reverse/\n",
    "\n",
    "template <class BidirectionalIterator>\n",
    "  void reverse (BidirectionalIterator first, BidirectionalIterator last)\n",
    "{\n",
    "  while ((first!=last)&&(first!=--last)) {\n",
    "    std::iter_swap (first,last);\n",
    "    ++first;\n",
    "  }\n",
    "}\n",
    "\n",
    "while ((first!=last)&&(first!=--last)) {\n",
    "1, 2, 3, 4, 5\n",
    "F           L\n",
    "5, 2, 3, 4, 1 // swap\n",
    "   F     L\n",
    "5, 4, 3, 2, 1 // swap\n",
    "}"
   ]
  },
  {
   "cell_type": "code",
   "execution_count": null,
   "metadata": {
    "collapsed": true
   },
   "outputs": [],
   "source": []
  }
 ],
 "metadata": {
  "anaconda-cloud": {},
  "kernelspec": {
   "display_name": "Python [default]",
   "language": "python",
   "name": "python2"
  },
  "language_info": {
   "codemirror_mode": {
    "name": "ipython",
    "version": 2
   },
   "file_extension": ".py",
   "mimetype": "text/x-python",
   "name": "python",
   "nbconvert_exporter": "python",
   "pygments_lexer": "ipython2",
   "version": "2.7.12"
  }
 },
 "nbformat": 4,
 "nbformat_minor": 1
}

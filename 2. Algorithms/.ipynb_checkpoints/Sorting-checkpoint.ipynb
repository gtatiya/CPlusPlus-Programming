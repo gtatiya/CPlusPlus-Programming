{
 "cells": [
  {
   "cell_type": "markdown",
   "metadata": {
    "collapsed": true
   },
   "source": [
    "# Insertion sort"
   ]
  },
  {
   "cell_type": "markdown",
   "metadata": {},
   "source": [
    "```C++\n",
    "#include <iostream>\n",
    "#include <cstdlib>\n",
    "\n",
    "using namespace std;\n",
    "\n",
    "int main ()\n",
    "{\n",
    "    int input;\n",
    "    cout << \"Enter no. of integers to sort: \";\n",
    "\n",
    "    cin>>input;\n",
    "\n",
    "    cout<<\"\\n\";\n",
    "\n",
    "    int arr[input];\n",
    "\n",
    "    for(int i = 0 ;i <input ; i++)\n",
    "    {\n",
    "        arr[i] = rand() % 100;\n",
    "        cout << arr[i] << \"\\t\";\n",
    "    }\n",
    "\n",
    "    cout<<\"\\n\";\n",
    "\n",
    "    /** Insertion sort */\n",
    "\n",
    "    for (int j = 1; j<input ; j++) {\n",
    "        int key = arr[j];\n",
    "        // Insert A[j] into the sorted sequence A[1 .. j-1]\n",
    "        int i = j-1;\n",
    "        while((i > -1) && (arr[i] > key)){\n",
    "            arr[i+1] = arr[i];\n",
    "            i = i - 1;\n",
    "        }\n",
    "        arr[i+1] = key;\n",
    "    }\n",
    "\n",
    "    for(int i = 0 ;i <input ; i++)\n",
    "    {\n",
    "        cout<<arr[i] << \"\\t\";\n",
    "    }\n",
    "\n",
    "    cin.ignore();\n",
    "    cin.get();\n",
    "    return 0;\n",
    "}\n",
    "```"
   ]
  },
  {
   "cell_type": "code",
   "execution_count": null,
   "metadata": {
    "collapsed": true
   },
   "outputs": [],
   "source": []
  }
 ],
 "metadata": {
  "anaconda-cloud": {},
  "kernelspec": {
   "display_name": "Python [default]",
   "language": "python",
   "name": "python2"
  },
  "language_info": {
   "codemirror_mode": {
    "name": "ipython",
    "version": 2
   },
   "file_extension": ".py",
   "mimetype": "text/x-python",
   "name": "python",
   "nbconvert_exporter": "python",
   "pygments_lexer": "ipython2",
   "version": "2.7.12"
  }
 },
 "nbformat": 4,
 "nbformat_minor": 1
}

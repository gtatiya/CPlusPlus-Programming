{
 "cells": [
  {
   "cell_type": "markdown",
   "metadata": {
    "collapsed": false
   },
   "source": [
    "# unordered_map\n",
    "http://www.cplusplus.com/reference/unordered_map/unordered_map/\n",
    "\n",
    "Unordered maps are **associative** containers that store elements formed by the combination of a key value and a mapped value, and which allows for fast retrieval of individual elements based on their keys."
   ]
  },
  {
   "cell_type": "markdown",
   "metadata": {
    "collapsed": true
   },
   "source": [
    "## Capacity:"
   ]
  },
  {
   "cell_type": "markdown",
   "metadata": {},
   "source": [
    "```C++\n",
    "#include <iostream>\n",
    "#include <unordered_map>\n",
    "\n",
    "using namespace std;\n",
    "\n",
    "int main ()\n",
    "{\n",
    "  unordered_map<int,int> first;\n",
    "  unordered_map<int,int> second = {{1,10},{2,20},{3,30}};\n",
    "\n",
    "  cout << \"first \" << (first.empty() ? \"is empty\" : \"is not empty\" ) << endl; // Test whether container is empty\n",
    "  cout << \"second \" << (second.empty() ? \"is empty\" : \"is not empty\" ) << endl;\n",
    "\n",
    "  cout << \"second.size() is \" << second.size() << endl; // Return container size\n",
    "\n",
    "  cout << \"max_size = \" << second.max_size() << endl; // Return maximum size\n",
    "  cout << \"max_bucket_count = \" << second.max_bucket_count() << endl; // Return maximum number of buckets\n",
    "\n",
    "  return 0;\n",
    "}\n",
    "```"
   ]
  },
  {
   "cell_type": "raw",
   "metadata": {},
   "source": [
    "first is empty\n",
    "second is not empty\n",
    "second.size() is 3\n",
    "max_size = 357913941\n",
    "max_bucket_count = 357913941"
   ]
  },
  {
   "cell_type": "markdown",
   "metadata": {},
   "source": [
    "## Element access:"
   ]
  },
  {
   "cell_type": "markdown",
   "metadata": {},
   "source": [
    "```C++\n",
    "#include <iostream>\n",
    "#include <string>\n",
    "#include <unordered_map>\n",
    "\n",
    "using namespace std;\n",
    "\n",
    "int main ()\n",
    "{\n",
    "  unordered_map<string, string> mymap;\n",
    "\n",
    "  mymap[\"Bakery\"]=\"Barbara\";  // operator[] - Access element\n",
    "  mymap[\"Seafood\"]=\"Lisa\";    // operator[] - Access element\n",
    "\n",
    "  string name = mymap[\"Bakery\"];   // existing element accessed (read)\n",
    "  mymap[\"Seafood\"] = name;              // existing element accessed (written)\n",
    "\n",
    "  mymap[\"Bakery\"] = mymap[\"Produce\"];   // new element \"Produce\" inserted, \"Bakery\" written\n",
    "\n",
    "  mymap.at(\"Produce\") = \"Mike\"; // at() - Access element\n",
    "\n",
    "  for (auto x: mymap) cout << x.first << \": \" << x.second << endl;\n",
    "\n",
    "  return 0;\n",
    "}\n",
    "```"
   ]
  },
  {
   "cell_type": "raw",
   "metadata": {},
   "source": [
    "Produce: Mike\n",
    "Seafood: Barbara\n",
    "Bakery:"
   ]
  },
  {
   "cell_type": "markdown",
   "metadata": {},
   "source": [
    "## Element lookup:"
   ]
  },
  {
   "cell_type": "markdown",
   "metadata": {},
   "source": [
    "```C++\n",
    "#include <iostream>\n",
    "#include <unordered_map>\n",
    "\n",
    "using namespace std;\n",
    "\n",
    "int main ()\n",
    "{\n",
    "  unordered_map<string,double> mymap = {\n",
    "     {\"mom\",5.4},\n",
    "     {\"dad\",6.1},\n",
    "     {\"bro\",5.9} };\n",
    "\n",
    "  unordered_map<string,double>::iterator got = mymap.find (\"dad\"); // Get iterator to element\n",
    "  // An iterator to the element, if the specified key value is found, or unordered_map::end if the specified key is not found in the container.\n",
    "\n",
    "  if ( got == mymap.end() )\n",
    "    cout << \"not found\";\n",
    "  else\n",
    "    cout << got->first << \" is \" << got->second;\n",
    "\n",
    "  cout << endl;\n",
    "\n",
    "  for (auto x: {\"mom\",\"dada\",\"di\",\"bro\"}) {\n",
    "    if (mymap.count(x)>0) // Count elements with a specific key, returns 1 if an element with a key equivalent to k is found, or zero otherwise.\n",
    "      cout << \"mymap has \" << x << endl;\n",
    "    else\n",
    "      cout << \"mymap has no \" << x << endl;\n",
    "  }\n",
    "  return 0;\n",
    "}\n",
    "```"
   ]
  },
  {
   "cell_type": "raw",
   "metadata": {},
   "source": [
    "dad is 6.1\n",
    "mymap has mom\n",
    "mymap has no dada\n",
    "mymap has no di\n",
    "mymap has bro"
   ]
  },
  {
   "cell_type": "markdown",
   "metadata": {},
   "source": [
    "## Modifiers:"
   ]
  },
  {
   "cell_type": "markdown",
   "metadata": {},
   "source": [
    "```C++\n",
    "#include <iostream>\n",
    "#include <string>\n",
    "#include <unordered_map>\n",
    "\n",
    "using namespace std;\n",
    "\n",
    "int main ()\n",
    "{\n",
    "  unordered_map<string, string> mymap;\n",
    "\n",
    "  mymap.emplace (\"NCC-1701\", \"J.T. Kirk\"); // Construct and insert element\n",
    "  mymap.emplace (\"NCC-1701-D\", \"J.L. Picard\");\n",
    "\n",
    "  for (auto x: mymap) cout << x.first << \": \" << x.second << endl;\n",
    "\n",
    "  return 0;\n",
    "}\n",
    "```"
   ]
  },
  {
   "cell_type": "raw",
   "metadata": {},
   "source": [
    "NCC-1701-D: J.L. Picard\n",
    "NCC-1701: J.T. Kirk"
   ]
  },
  {
   "cell_type": "markdown",
   "metadata": {},
   "source": [
    "```C++\n",
    "#include <iostream>\n",
    "#include <string>\n",
    "#include <unordered_map>\n",
    "\n",
    "using namespace std;\n",
    "\n",
    "int main ()\n",
    "{\n",
    "  /**************** std::unordered_map::insert *****************/\n",
    "  // Inserts new elements in the unordered_map.\n",
    "  // http://www.cplusplus.com/reference/unordered_map/unordered_map/insert/\n",
    "  // 6 TYPES:\n",
    "\n",
    "  unordered_map<string,double>\n",
    "              myrecipe,\n",
    "              mypantry = {{\"milk\",2.0},{\"flour\",1.5}};\n",
    "\n",
    "  pair<string,double> myshopping (\"baking powder\",0.3);\n",
    "\n",
    "  // pair<iterator,bool> insert ( const value_type& val );\n",
    "  myrecipe.insert (myshopping);                        // copy insertion\n",
    "  // pair<iterator,bool> insert ( P&& val );\n",
    "  myrecipe.insert (make_pair<string,double>(\"eggs\",6.0)); // move insertion\n",
    "  // insert ( InputIterator first, InputIterator last );\n",
    "  myrecipe.insert (mypantry.begin(), mypantry.end());  // range insertion\n",
    "  // insert ( initializer_list<value_type> il );\n",
    "  myrecipe.insert ( {{\"sugar\",0.8},{\"salt\",0.1}} );    // initializer list insertion\n",
    "\n",
    "  for (auto x: myrecipe) cout << x.first << \": \" << x.second << endl;\n",
    "  /**************** std::unordered_map::insert *****************/\n",
    "\n",
    "  return 0;\n",
    "}\n",
    "```"
   ]
  },
  {
   "cell_type": "raw",
   "metadata": {},
   "source": [
    "salt: 0.1\n",
    "milk: 2\n",
    "flour: 1.5\n",
    "eggs: 6\n",
    "sugar: 0.8\n",
    "baking powder: 0.3"
   ]
  },
  {
   "cell_type": "markdown",
   "metadata": {},
   "source": [
    "```C++\n",
    "#include <iostream>\n",
    "#include <string>\n",
    "#include <unordered_map>\n",
    "\n",
    "using namespace std;\n",
    "\n",
    "int main ()\n",
    "{\n",
    "  /**************** std::unordered_map::erase *****************/\n",
    "  unordered_map<string, string> mymap;\n",
    "\n",
    "  // populating container:\n",
    "  mymap[\"U.S.\"] = \"Washington\";\n",
    "  mymap[\"France\"] = \"Paris\";\n",
    "  mymap[\"Russia\"] = \"Moscow\";\n",
    "  mymap[\"China\"] = \"Beijing\";\n",
    "  mymap[\"Japan\"] = \"Tokyo\";\n",
    "\n",
    "  //unordered_map<string, double>::const_iterator it;\n",
    "\n",
    "  unordered_map<string, string>::iterator it = mymap.begin();\n",
    "\n",
    "  for (auto x: mymap) cout << x.first << \": \" << x.second << endl;\n",
    "  cout << endl;\n",
    "\n",
    "  cout << \"mymap.begin() is pointing to: \" << it->first << \": \" << it->second << endl;\n",
    "\n",
    "  //  position (1): iterator erase ( const_iterator position );\n",
    "  mymap.erase ( mymap.begin() );      // erasing by iterator\n",
    "  for (auto x: mymap) cout << x.first << \": \" << x.second << endl;\n",
    "  cout << endl;\n",
    "\n",
    "  // key (2): size_type erase ( const key_type& k );\n",
    "  mymap.erase (\"France\");             // erasing by key\n",
    "  for (auto x: mymap) cout << x.first << \": \" << x.second << endl;\n",
    "  cout << endl;\n",
    "\n",
    "  // range (3): iterator erase ( const_iterator first, const_iterator last );\n",
    "  mymap.erase ( mymap.find(\"China\"), mymap.end() ); // erasing by range\n",
    "  for (auto x: mymap) cout << x.first << \": \" << x.second << endl;\n",
    "\n",
    "  return 0;\n",
    "}\n",
    "```"
   ]
  },
  {
   "cell_type": "raw",
   "metadata": {},
   "source": [
    "Japan: Tokyo\n",
    "Russia: Moscow\n",
    "China: Beijing\n",
    "France: Paris\n",
    "U.S.: Washington\n",
    "\n",
    "mymap.begin() is pointing to: Japan: Tokyo\n",
    "Russia: Moscow\n",
    "China: Beijing\n",
    "France: Paris\n",
    "U.S.: Washington\n",
    "\n",
    "Russia: Moscow\n",
    "China: Beijing\n",
    "U.S.: Washington\n",
    "\n",
    "Russia: Moscow"
   ]
  },
  {
   "cell_type": "markdown",
   "metadata": {},
   "source": [
    "```C++\n",
    "#include <iostream>\n",
    "#include <string>\n",
    "#include <unordered_map>\n",
    "\n",
    "using namespace std;\n",
    "\n",
    "int main ()\n",
    "{\n",
    "  /**************** std::unordered_map::erase *****************/\n",
    "  unordered_map<string, string> mymap;\n",
    "\n",
    "  // populating container:\n",
    "  mymap[\"U.S.\"] = \"Washington\";\n",
    "  mymap[\"France\"] = \"Paris\";\n",
    "  mymap[\"Russia\"] = \"Moscow\";\n",
    "  mymap[\"China\"] = \"Beijing\";\n",
    "  mymap[\"Japan\"] = \"Tokyo\";\n",
    "\n",
    "  //unordered_map<string, double>::const_iterator it;\n",
    "\n",
    "  unordered_map<string, string>::iterator it = mymap.begin();\n",
    "\n",
    "  for (auto x: mymap) cout << x.first << \": \" << x.second << endl;\n",
    "  cout << endl;\n",
    "\n",
    "  cout << \"mymap.begin() is pointing to: \" << it->first << \": \" << it->second << endl;\n",
    "\n",
    "  //  position (1): iterator erase ( const_iterator position );\n",
    "  mymap.erase ( mymap.begin() );      // erasing by iterator\n",
    "  for (auto x: mymap) cout << x.first << \": \" << x.second << endl;\n",
    "  cout << endl;\n",
    "\n",
    "  // key (2): size_type erase ( const key_type& k );\n",
    "  mymap.erase (\"France\");             // erasing by key\n",
    "  for (auto x: mymap) cout << x.first << \": \" << x.second << endl;\n",
    "  cout << endl;\n",
    "\n",
    "  // range (3): iterator erase ( const_iterator first, const_iterator last );\n",
    "  mymap.erase ( mymap.find(\"China\"), mymap.end() ); // erasing by range\n",
    "  for (auto x: mymap) cout << x.first << \": \" << x.second << endl;\n",
    "  cout << endl;\n",
    "  /**************** std::unordered_map::erase *****************/\n",
    "\n",
    "  mymap.clear(); // Clear content\n",
    "  mymap[\"India\"] = \"Delhi\";\n",
    "  for (auto x: mymap) cout << x.first << \": \" << x.second << endl;\n",
    "  cout << endl;\n",
    "\n",
    "  unordered_map<string, string> mymap2;\n",
    "\n",
    "  mymap2[\"U.S.\"] = \"Washington\";\n",
    "\n",
    "  mymap.swap(mymap2); // Swap content \n",
    "\n",
    "  for (auto x: mymap) cout << x.first << \": \" << x.second << endl;\n",
    "  cout << endl;\n",
    "  for (auto x: mymap2) cout << x.first << \": \" << x.second << endl;\n",
    "\n",
    "  return 0;\n",
    "}\n",
    "```"
   ]
  },
  {
   "cell_type": "raw",
   "metadata": {},
   "source": [
    "Japan: Tokyo\n",
    "Russia: Moscow\n",
    "China: Beijing\n",
    "France: Paris\n",
    "U.S.: Washington\n",
    "\n",
    "mymap.begin() is pointing to: Japan: Tokyo\n",
    "Russia: Moscow\n",
    "China: Beijing\n",
    "France: Paris\n",
    "U.S.: Washington\n",
    "\n",
    "Russia: Moscow\n",
    "China: Beijing\n",
    "U.S.: Washington\n",
    "\n",
    "Russia: Moscow\n",
    "\n",
    "India: Delhi\n",
    "\n",
    "U.S.: Washington\n",
    "\n",
    "India: Delhi"
   ]
  },
  {
   "cell_type": "code",
   "execution_count": null,
   "metadata": {
    "collapsed": true
   },
   "outputs": [],
   "source": []
  }
 ],
 "metadata": {
  "anaconda-cloud": {},
  "kernelspec": {
   "display_name": "Python [default]",
   "language": "python",
   "name": "python2"
  },
  "language_info": {
   "codemirror_mode": {
    "name": "ipython",
    "version": 2
   },
   "file_extension": ".py",
   "mimetype": "text/x-python",
   "name": "python",
   "nbconvert_exporter": "python",
   "pygments_lexer": "ipython2",
   "version": "2.7.12"
  }
 },
 "nbformat": 4,
 "nbformat_minor": 1
}

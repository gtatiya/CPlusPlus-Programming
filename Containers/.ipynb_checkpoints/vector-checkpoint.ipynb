{
 "cells": [
  {
   "cell_type": "markdown",
   "metadata": {
    "collapsed": false
   },
   "source": [
    "# vector\n",
    "http://www.cplusplus.com/reference/vector/vector/\n",
    "\n",
    "Vectors are sequence containers representing arrays that can change in size.\n",
    "\n",
    "Just like arrays, vectors use contiguous storage locations for their elements, which means that their elements can also be accessed using offsets on regular pointers to its elements, and just as efficiently as in arrays. But unlike arrays, their size can change **dynamically**, with their storage being handled automatically by the container."
   ]
  },
  {
   "cell_type": "markdown",
   "metadata": {
    "collapsed": true
   },
   "source": [
    "## Capacity:"
   ]
  },
  {
   "cell_type": "markdown",
   "metadata": {},
   "source": [
    "```C++\n",
    "#include <iostream>\n",
    "#include <vector>\n",
    "using namespace std;\n",
    "\n",
    "int main ()\n",
    "{\n",
    "    vector<int> DynamicArray;\n",
    "\n",
    "    cout << \"size: \" << DynamicArray.size() << '\\n'; // Return size\n",
    "    \n",
    "    cout << \"max_size: \" << DynamicArray.max_size() << '\\n'; // Return maximum size\n",
    "    \n",
    "    // resize (size_type n, value_type val = value_type())\n",
    "    DynamicArray.resize(5); // Change size\n",
    "    cout << \"size: \" << DynamicArray.size() << '\\n';\n",
    "    \n",
    "    cout << \"capacity: \" << DynamicArray.capacity() << '\\n'; // Return size of allocated storage capacity\n",
    "    \n",
    "    cout << \"empty: \" << DynamicArray.empty() << '\\n'; // Test whether vector is empty\n",
    "    \n",
    "    // reserve (size_type n)\n",
    "    DynamicArray.reserve(10); // Request a change in capacity\n",
    "    cout << \"size: \" << DynamicArray.size() << '\\n';\n",
    "    cout << \"capacity: \" << DynamicArray.capacity() << '\\n';\n",
    "    \n",
    "    DynamicArray.shrink_to_fit(); // Shrink to fit\n",
    "    cout << \"size: \" << DynamicArray.size() << '\\n';\n",
    "    cout << \"capacity: \" << DynamicArray.capacity() << '\\n';\n",
    "    \n",
    "  return 0;\n",
    "}\n",
    "```"
   ]
  },
  {
   "cell_type": "raw",
   "metadata": {},
   "source": [
    "size: 0\n",
    "max_size: 4611686018427387903\n",
    "size: 5\n",
    "capacity: 5\n",
    "empty: 0\n",
    "size: 5\n",
    "capacity: 10\n",
    "size: 5\n",
    "capacity: 5"
   ]
  },
  {
   "cell_type": "markdown",
   "metadata": {},
   "source": [
    "## Element access:"
   ]
  },
  {
   "cell_type": "markdown",
   "metadata": {},
   "source": [
    "```C++\n",
    "#include <iostream>\n",
    "#include <vector>\n",
    "using namespace std;\n",
    "\n",
    "int main ()\n",
    "{\n",
    "    vector<int> myvector (5);   // 5 zero-initialized elements\n",
    "    \n",
    "    cout << \"myvector[5]: \" << myvector[3] << endl; // operator[] - Access element\n",
    "    \n",
    "    for (int i = 0 ; i < myvector.size() ; i++)\n",
    "      cout << i << \", \" << myvector.at(i) << endl; //  Access element\n",
    "      \n",
    "    cout << \"myvector.front(): \" << myvector.front() << endl; // Access first element\n",
    "    \n",
    "    myvector.push_back(78);\n",
    "    cout << \"myvector.back(): \" << myvector.back() << endl; // Access last element\n",
    "    \n",
    "    int* p = myvector.data(); // data() returns a pointer to the first element in the array used internally by the vector\n",
    "    *p = 10;\n",
    "    cout << \"myvector[0]: \" << myvector[0] << endl; // operator[] - Access element\n",
    "    \n",
    "  return 0;\n",
    "}\n",
    "```"
   ]
  },
  {
   "cell_type": "raw",
   "metadata": {},
   "source": [
    "myvector[5]: 0\n",
    "0, 0\n",
    "1, 0\n",
    "2, 0\n",
    "3, 0\n",
    "4, 0\n",
    "myvector.front(): 0\n",
    "myvector.back(): 78\n",
    "myvector[0]: 10"
   ]
  },
  {
   "cell_type": "markdown",
   "metadata": {
    "collapsed": true
   },
   "source": [
    "## Modifiers:"
   ]
  },
  {
   "cell_type": "markdown",
   "metadata": {},
   "source": [
    "```C++\n",
    "#include <iostream>\n",
    "#include <vector>\n",
    "using namespace std;\n",
    "\n",
    "int main() {\n",
    "  /**************** std::vector::assign *****************/\n",
    "  // Assigns new contents to the vector, replacing its current contents, and modifying its size accordingly.\n",
    "  // http://www.cplusplus.com/reference/vector/vector/assign/\n",
    "  // 3 TYPES:\n",
    "  vector<int> first;\n",
    "  vector<int> second;\n",
    "  vector<int> third;\n",
    "  \n",
    "  // fill (1): void assign (size_type n, const value_type& val);\n",
    "  first.assign (4, 100);             // 4 ints with a value of 100\n",
    "  for (int i = 0 ; i < first.size() ; i++) cout << i << \", \" << first.at(i) << endl;\n",
    "  cout << endl;\n",
    "  // range (2): void assign (InputIterator first, InputIterator last);\n",
    "  std::vector<int>::iterator it;\n",
    "  it=first.begin()+1; // begin() - Return iterator to beginning\n",
    "  second.assign (it, first.end()-1); // the 3 central values of first // end() - Return iterator to end\n",
    "  for (int i = 0 ; i < second.size() ; i++) cout << i << \", \" << second.at(i) << endl;\n",
    "  cout << endl;\n",
    "  // initializer list (3): void assign (initializer_list<value_type> il);\n",
    "  int myints[] = {7,4};\n",
    "  third.assign (myints,myints+2);   // assigning from array.\n",
    "  for (int i = 0 ; i < third.size() ; i++) cout << i << \", \" << third.at(i) << endl;\n",
    "  cout << endl;\n",
    "  /**************** std::vector::assign *****************/   \n",
    "  return 0;\n",
    "}\n",
    "```"
   ]
  },
  {
   "cell_type": "raw",
   "metadata": {},
   "source": [
    "0, 100\n",
    "1, 100\n",
    "2, 100\n",
    "3, 100\n",
    "\n",
    "0, 100\n",
    "1, 100\n",
    "\n",
    "0, 7\n",
    "1, 4"
   ]
  },
  {
   "cell_type": "markdown",
   "metadata": {},
   "source": [
    "```C++\n",
    "#include <iostream>\n",
    "#include <vector>\n",
    "using namespace std;\n",
    "\n",
    "int main() {\n",
    "  vector<int> third;\n",
    " \n",
    "  for (int i=0; i<4; i++) third.push_back(i); // Add element at the end\n",
    "  for (int i = 0 ; i < third.size() ; i++) cout << i << \", \" << third.at(i) << endl;\n",
    "  cout << endl;\n",
    "  third.pop_back(); // Delete last element\n",
    "  for (int i = 0 ; i < third.size() ; i++) cout << i << \", \" << third.at(i) << endl;\n",
    "  return 0;\n",
    "}\n",
    "```"
   ]
  },
  {
   "cell_type": "raw",
   "metadata": {},
   "source": [
    "0, 0\n",
    "1, 1\n",
    "2, 2\n",
    "3, 3\n",
    "\n",
    "0, 0\n",
    "1, 1\n",
    "2, 2"
   ]
  },
  {
   "cell_type": "markdown",
   "metadata": {},
   "source": [
    "```C++\n",
    "#include <iostream>\n",
    "#include <vector>\n",
    "using namespace std;\n",
    "\n",
    "int main() {\n",
    "  /**************** std::vector::insert *****************/\n",
    "  // The vector is extended by inserting new elements before the element at the specified position, effectively increasing the container size by the number of elements inserted.\n",
    "  // http://www.cplusplus.com/reference/vector/vector/insert/\n",
    "  // 5 TYPES:\n",
    "  \n",
    "  vector<int> myvector (2, 100); // 2, 100-initialized elements\n",
    "  vector<int>::iterator it;\n",
    "\n",
    "  // single element (1): iterator insert (const_iterator position, const value_type& val);\n",
    "  it = myvector.begin();\n",
    "  it = myvector.insert(it, 200); // Returns an iterator that points to the first of the newly inserted elements\n",
    "  for (int i = 0 ; i < myvector.size() ; i++) cout << i << \", \" << myvector.at(i) << endl;\n",
    "  cout << endl;\n",
    "  \n",
    "  // fill (2): iterator insert (const_iterator position, size_type n, const value_type& val);\n",
    "  myvector.insert (it, 2, 300);\n",
    "  for (int i = 0 ; i < myvector.size() ; i++) cout << i << \", \" << myvector.at(i) << endl;\n",
    "  cout << endl;\n",
    "  \n",
    "  // \"it\" no longer valid, get a new one:\n",
    "  cout << *it << endl;\n",
    "  it = myvector.begin();\n",
    "  cout << *it << endl << endl;\n",
    "  \n",
    "  // range(3): iterator insert (const_iterator position, InputIterator first, InputIterator last);\n",
    "  vector<int> anothervector (2, 400);\n",
    "  myvector.insert (it+2, anothervector.begin(), anothervector.end());\n",
    "  for (int i = 0 ; i < myvector.size() ; i++) cout << i << \", \" << myvector.at(i) << endl;\n",
    "  cout << endl;\n",
    "  \n",
    "  // initializer list (5): iterator insert (const_iterator position, initializer_list<value_type> il);\n",
    "  int myarray [] = { 501,502,503 };\n",
    "  myvector.insert (myvector.begin(), myarray, myarray+3);\n",
    "  for (int i = 0 ; i < myvector.size() ; i++) cout << i << \", \" << myvector.at(i) << endl;\n",
    "  \n",
    "  /**************** std::vector::insert *****************/\n",
    "  return 0;\n",
    "}\n",
    "```"
   ]
  },
  {
   "cell_type": "raw",
   "metadata": {},
   "source": [
    "0, 200\n",
    "1, 100\n",
    "2, 100\n",
    "\n",
    "0, 300\n",
    "1, 300\n",
    "2, 200\n",
    "3, 100\n",
    "4, 100\n",
    "\n",
    "0\n",
    "300\n",
    "\n",
    "0, 300\n",
    "1, 300\n",
    "2, 400\n",
    "3, 400\n",
    "4, 200\n",
    "5, 100\n",
    "6, 100\n",
    "\n",
    "0, 501\n",
    "1, 502\n",
    "2, 503\n",
    "3, 300\n",
    "4, 300\n",
    "5, 400\n",
    "6, 400\n",
    "7, 200\n",
    "8, 100\n",
    "9, 100"
   ]
  },
  {
   "cell_type": "markdown",
   "metadata": {},
   "source": [
    "```C++\n",
    "#include <iostream>\n",
    "#include <vector>\n",
    "using namespace std;\n",
    "\n",
    "int main() {\n",
    "  /**************** std::vector::erase *****************/\n",
    "  // Removes from the vector either a single element (position) or a range of elements ([first,last)).\n",
    "  // http://www.cplusplus.com/reference/vector/vector/erase/\n",
    "  // 2 TYPES:\n",
    "  \n",
    "  vector<int> myvector;\n",
    "  for (int i=1; i<=10; i++) myvector.push_back(i);\n",
    "\n",
    "  // (1) iterator erase (const_iterator position);\n",
    "  myvector.erase (myvector.begin()+5); // erase the 6th element\n",
    "  for (int i = 0 ; i < myvector.size() ; i++) cout << myvector.at(i) << \" \";\n",
    "  cout << endl;\n",
    "  \n",
    "  // (2) iterator erase (const_iterator first, const_iterator last);\n",
    "  myvector.erase (myvector.begin(),myvector.begin()+3); // erase the first 3 elements\n",
    "  for (int i = 0 ; i < myvector.size() ; i++) cout << myvector.at(i) << \" \";\n",
    "  \n",
    "  /**************** std::vector::erase *****************/\n",
    "  return 0;\n",
    "}\n",
    "```"
   ]
  },
  {
   "cell_type": "raw",
   "metadata": {},
   "source": [
    "1 2 3 4 5 7 8 9 10 \n",
    "4 5 7 8 9 10"
   ]
  },
  {
   "cell_type": "markdown",
   "metadata": {},
   "source": [
    "```C++\n",
    "#include <iostream>\n",
    "#include <vector>\n",
    "using namespace std;\n",
    "\n",
    "int main() {\n",
    "  std::vector<int> foo (3,100);   // three ints with a value of 100\n",
    "  std::vector<int> bar (5,200);   // five ints with a value of 200\n",
    "  \n",
    "  foo.swap(bar); // Exchanges the content of the container by the content of x, which is another vector object of the same type. Sizes may differ.\n",
    "  \n",
    "  for (int i = 0 ; i < foo.size() ; i++) cout << foo.at(i) << \" \";\n",
    "  cout << endl;\n",
    "  for (int i = 0 ; i < bar.size() ; i++) cout << bar.at(i) << \" \";\n",
    "  cout << endl;\n",
    "  \n",
    "  bar.clear(); // Removes all elements from the vector (which are destroyed), leaving the container with a size of 0.\n",
    "  bar.push_back (1101);\n",
    "  bar.push_back (1102);\n",
    "  for (int i = 0 ; i < bar.size() ; i++) cout << bar.at(i) << \" \";\n",
    "  cout << endl;\n",
    "  \n",
    "  // std::vector::emplace - The container is extended by inserting a new element at position. This new element is constructed in place using args as the arguments for its construction.\n",
    "  auto it = bar.emplace ( bar.begin()+1, 100 ); // Returns an iterator that points to the newly emplaced element\n",
    "  for (int i = 0 ; i < bar.size() ; i++) cout << bar.at(i) << \" \";\n",
    "  cout << endl;\n",
    "  \n",
    "  bar.emplace ( it, 200 );\n",
    "  for (int i = 0 ; i < bar.size() ; i++) cout << bar.at(i) << \" \";\n",
    "  cout << endl;\n",
    "\n",
    "  // std::vector::emplace_back - Inserts a new element at the end of the vector, right after its current last element. This new element is constructed in place using args as the arguments for its constructor.\n",
    "  bar.emplace_back (200);\n",
    "  for (int i = 0 ; i < bar.size() ; i++) cout << bar.at(i) << \" \";\n",
    "\n",
    "  return 0;\n",
    "}\n",
    "```"
   ]
  },
  {
   "cell_type": "raw",
   "metadata": {},
   "source": [
    "200 200 200 200 200 \n",
    "100 100 100 \n",
    "1101 1102 \n",
    "1101 100 1102 \n",
    "1101 200 100 1102 \n",
    "1101 200 100 1102 200 "
   ]
  },
  {
   "cell_type": "markdown",
   "metadata": {},
   "source": [
    "```C++\n",
    "\n",
    "```"
   ]
  },
  {
   "cell_type": "markdown",
   "metadata": {},
   "source": [
    "```C++\n",
    "\n",
    "```"
   ]
  },
  {
   "cell_type": "markdown",
   "metadata": {},
   "source": [
    "```C++\n",
    "\n",
    "```"
   ]
  },
  {
   "cell_type": "markdown",
   "metadata": {},
   "source": [
    "```C++\n",
    "\n",
    "```"
   ]
  },
  {
   "cell_type": "markdown",
   "metadata": {},
   "source": [
    "```C++\n",
    "\n",
    "```"
   ]
  },
  {
   "cell_type": "markdown",
   "metadata": {},
   "source": [
    "```C++\n",
    "\n",
    "```"
   ]
  },
  {
   "cell_type": "markdown",
   "metadata": {},
   "source": [
    "```C++\n",
    "\n",
    "```"
   ]
  },
  {
   "cell_type": "markdown",
   "metadata": {},
   "source": [
    "```C++\n",
    "\n",
    "```"
   ]
  },
  {
   "cell_type": "markdown",
   "metadata": {},
   "source": [
    "```C++\n",
    "\n",
    "```"
   ]
  },
  {
   "cell_type": "code",
   "execution_count": null,
   "metadata": {
    "collapsed": true
   },
   "outputs": [],
   "source": []
  }
 ],
 "metadata": {
  "anaconda-cloud": {},
  "kernelspec": {
   "display_name": "Python [default]",
   "language": "python",
   "name": "python2"
  },
  "language_info": {
   "codemirror_mode": {
    "name": "ipython",
    "version": 2
   },
   "file_extension": ".py",
   "mimetype": "text/x-python",
   "name": "python",
   "nbconvert_exporter": "python",
   "pygments_lexer": "ipython2",
   "version": "2.7.12"
  }
 },
 "nbformat": 4,
 "nbformat_minor": 1
}

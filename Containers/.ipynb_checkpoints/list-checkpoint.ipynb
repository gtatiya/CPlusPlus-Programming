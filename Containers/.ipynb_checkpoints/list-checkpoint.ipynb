{
 "cells": [
  {
   "cell_type": "markdown",
   "metadata": {
    "collapsed": false
   },
   "source": [
    "# list\n",
    "http://www.cplusplus.com/reference/list/list/\n",
    "\n",
    "Lists are sequence containers that allow constant time insert and erase operations anywhere within the sequence, and iteration in both directions.\n",
    "\n",
    "List containers are implemented as **doubly-linked lists**; Doubly linked lists can store each of the elements they contain in different and unrelated storage locations. The ordering is kept internally by the association to each element of a link to the element preceding it and a link to the element following it."
   ]
  },
  {
   "cell_type": "markdown",
   "metadata": {
    "collapsed": true
   },
   "source": [
    "## Capacity:"
   ]
  },
  {
   "cell_type": "markdown",
   "metadata": {},
   "source": [
    "```C++\n",
    "#include <iostream>\n",
    "#include <list>\n",
    "\n",
    "using namespace std;\n",
    "\n",
    "int main ()\n",
    "{\n",
    "    list<int> myints (2,100);\n",
    "\n",
    "    if (!myints.empty()) // Test whether container is empty\n",
    "        cout << \"size: \" << myints.size() << '\\n'; // Return size\n",
    "\n",
    "    cout << \"max_size(): \" << myints.max_size() << '\\n'; // Return maximum size\n",
    "\n",
    "  return 0;\n",
    "}\n",
    "```"
   ]
  },
  {
   "cell_type": "raw",
   "metadata": {},
   "source": [
    "size: 2\n",
    "max_size(): 357913941"
   ]
  },
  {
   "cell_type": "markdown",
   "metadata": {},
   "source": [
    "## Element access:"
   ]
  },
  {
   "cell_type": "markdown",
   "metadata": {},
   "source": [
    "```C++\n",
    "#include <iostream>\n",
    "#include <list>\n",
    "\n",
    "using namespace std;\n",
    "\n",
    "int main ()\n",
    "{\n",
    "    list<int> myints = {5, 9, 10};\n",
    "\n",
    "    cout << \"myints.front(): \" << myints.front() << '\\n'; // Access first element\n",
    "\n",
    "    cout << \"myints.back(): \" << myints.back() << '\\n'; // Access last element\n",
    "\n",
    "  return 0;\n",
    "}\n",
    "```"
   ]
  },
  {
   "cell_type": "raw",
   "metadata": {},
   "source": [
    "myints.front(): 5\n",
    "myints.back(): 10"
   ]
  },
  {
   "cell_type": "markdown",
   "metadata": {},
   "source": [
    "# Modifiers:"
   ]
  },
  {
   "cell_type": "markdown",
   "metadata": {},
   "source": [
    "```C++\n",
    "#include <iostream>\n",
    "#include <list>\n",
    "\n",
    "using namespace std;\n",
    "\n",
    "int main() {\n",
    "  /**************** std::list::assign *****************/\n",
    "  // Assigns new contents to the list container, replacing its current contents, and modifying its size accordingly.\n",
    "  // http://www.cplusplus.com/reference/list/list/assign/\n",
    "  // 3 TYPES:\n",
    "  list<int> first;\n",
    "  list<int> second;\n",
    "\n",
    "  // fill (1): void assign (size_type n, const value_type& val);\n",
    "  first.assign (7,100);                      // 7 ints with value 100\n",
    "\n",
    "  // range (2): void assign (InputIterator first, InputIterator last);\n",
    "  second.assign (first.begin(),first.end()); // a copy of first\n",
    "\n",
    "  // initializer list (3): void assign (initializer_list<value_type> il);\n",
    "  int myints[]={1776,7,4};\n",
    "  first.assign (myints,myints+3);            // assigning from array\n",
    "\n",
    "  cout << \"Size of first: \" <<  (first.size()) << '\\n';\n",
    "  cout << \"Size of second: \" <<  (second.size()) << '\\n';\n",
    "  /**************** std::list::assign *****************/\n",
    "  return 0;\n",
    "}\n",
    "```"
   ]
  },
  {
   "cell_type": "raw",
   "metadata": {},
   "source": [
    "Size of first: 3\n",
    "Size of second: 7"
   ]
  },
  {
   "cell_type": "markdown",
   "metadata": {},
   "source": [
    "```C++\n",
    "#include <iostream>\n",
    "#include <list>\n",
    "\n",
    "using namespace std;\n",
    "\n",
    "int main() {\n",
    "  list<int> mylist;\n",
    "\n",
    "  mylist.emplace_front(10); // Construct and insert element at beginning\n",
    "  mylist.emplace_back(100); // Construct and insert element at the end\n",
    "  for (list<int>::iterator it=mylist.begin(); it!=mylist.end(); ++it) cout << ' ' << *it;\n",
    "  cout << endl;\n",
    "\n",
    "  mylist.push_front (200); // Insert element at beginning\n",
    "  mylist.push_back (300); // Delete first element\n",
    "  for (list<int>::iterator it=mylist.begin(); it!=mylist.end(); ++it) cout << ' ' << *it;\n",
    "  cout << endl;\n",
    "\n",
    "  mylist.pop_front(); // Delete first element\n",
    "  mylist.pop_back(); // Delete last element\n",
    "  for (list<int>::iterator it=mylist.begin(); it!=mylist.end(); ++it) cout << ' ' << *it;\n",
    "  cout << endl;\n",
    "\n",
    "  /*************** std::list::emplace **************/\n",
    "  // emplace (const_iterator position, Args&&... args);\n",
    "  // The container is extended by inserting a new element at position.\n",
    "  // Returns an iterator that points to the newly emplaced element.\n",
    "\n",
    "  list<int>::iterator it1 = mylist.emplace(mylist.begin(), 420); // Construct and insert element\n",
    "  for (list<int>::iterator it=mylist.begin(); it!=mylist.end(); ++it) cout << ' ' << *it;\n",
    "  cout << endl;\n",
    "  cout << \"newly emplaced element: \" << *it1;\n",
    "\n",
    "  return 0;\n",
    "}\n",
    "```"
   ]
  },
  {
   "cell_type": "raw",
   "metadata": {},
   "source": [
    " 10 100\n",
    " 200 10 100 300\n",
    " 10 100\n",
    " 420 10 100\n",
    "newly emplaced element: 420"
   ]
  },
  {
   "cell_type": "markdown",
   "metadata": {},
   "source": [
    "```C++\n",
    "#include <iostream>\n",
    "#include <list>\n",
    "\n",
    "using namespace std;\n",
    "\n",
    "int main() {\n",
    "  /**************** std::list::insert *****************/\n",
    "  // The container is extended by inserting new elements before the element at the specified position.\n",
    "  // Returns an iterator that points to the first of the newly inserted elements.\n",
    "  // http://www.cplusplus.com/reference/list/list/insert/\n",
    "  // 5 TYPES:\n",
    "\n",
    "  list<int> mylist;\n",
    "  list<int>::iterator it;\n",
    "\n",
    "  for (int i=1; i<=5; ++i) mylist.push_back(i); // 1 2 3 4 5\n",
    "  it = mylist.begin();\n",
    "  ++it;       // it points now to number 2\n",
    "\n",
    "  // single element (1): iterator insert (const_iterator position, const value_type& val);\n",
    "  mylist.insert (it,10);                        // 1 10 2 3 4 5\n",
    "  for (list<int>::iterator it=mylist.begin(); it!=mylist.end(); ++it) cout << ' ' << *it;\n",
    "  cout << endl;\n",
    "\n",
    "  // fill (2): iterator insert (const_iterator position, size_type n, const value_type& val);\n",
    "  // \"it\" still points to number 2\n",
    "  mylist.insert (it,2,20);                      // 1 10 20 20 2 3 4 5\n",
    "  --it;       // it points now to the second 20\n",
    "  for (list<int>::iterator it=mylist.begin(); it!=mylist.end(); ++it) cout << ' ' << *it;\n",
    "  cout << endl;\n",
    "\n",
    "  // range(3): iterator insert (const_iterator position, InputIterator first, InputIterator last);\n",
    "  list<int> anotherlist (2, 400);\n",
    "  mylist.insert (++it, anotherlist.begin(), anotherlist.end());\n",
    "  for (list<int>::iterator it=mylist.begin(); it!=mylist.end(); ++it) cout << ' ' << *it;\n",
    "  cout << endl;\n",
    "\n",
    " // initializer list (5): iterator insert (const_iterator position, initializer_list<value_type> il);\n",
    "  int myarray [] = { 501,502,503 };\n",
    "  mylist.insert (mylist.begin(), myarray, myarray+3);\n",
    "  for (list<int>::iterator it=mylist.begin(); it!=mylist.end(); ++it) cout << ' ' << *it;\n",
    "  /**************** std::list::insert *****************/\n",
    "  return 0;\n",
    "}\n",
    "```"
   ]
  },
  {
   "cell_type": "raw",
   "metadata": {},
   "source": [
    " 1 10 2 3 4 5\n",
    " 1 10 20 20 2 3 4 5\n",
    " 1 10 20 20 400 400 2 3 4 5\n",
    " 501 502 503 1 10 20 20 400 400 2 3 4 5"
   ]
  },
  {
   "cell_type": "markdown",
   "metadata": {},
   "source": [
    "```C++\n",
    "#include <iostream>\n",
    "#include <list>\n",
    "\n",
    "using namespace std;\n",
    "\n",
    "int main() {\n",
    "  /**************** std::list::erase *****************/\n",
    "  // Removes from the list container either a single element (position) or a range of elements ([first,last)).\n",
    "  // Returns an iterator pointing to the element that followed the last element erased by the function call.\n",
    "  // http://www.cplusplus.com/reference/list/list/erase/\n",
    "  // 2 TYPES:\n",
    "\n",
    "  list<int> mylist;\n",
    "  list<int>::iterator it1,it2;\n",
    "\n",
    "  // set some values:\n",
    "  for (int i=1; i<10; ++i) mylist.push_back(i*10);\n",
    "\n",
    "                              // 10 20 30 40 50 60 70 80 90\n",
    "  it1 = it2 = mylist.begin(); // ^^\n",
    "  advance (it2,6);            // ^                 ^\n",
    "  ++it1;                      //    ^              ^\n",
    "  // (1) iterator erase (const_iterator position);\n",
    "  it1 = mylist.erase (it1);   // 10 30 40 50 60 70 80 90\n",
    "                              //    ^           ^\n",
    "  for (list<int>::iterator it=mylist.begin(); it!=mylist.end(); ++it) cout << ' ' << *it;\n",
    "  cout << endl;\n",
    "\n",
    "  it2 = mylist.erase (it2);   // 10 30 40 50 60 80 90\n",
    "                              //    ^           ^\n",
    "  ++it1;                      //       ^        ^\n",
    "  --it2;                      //       ^     ^\n",
    "  for (list<int>::iterator it=mylist.begin(); it!=mylist.end(); ++it) cout << ' ' << *it;\n",
    "  cout << endl;\n",
    "\n",
    "  // (2) iterator erase (const_iterator first, const_iterator last);\n",
    "  mylist.erase (it1,it2);     // 10 30 60 80 90\n",
    "                              //        ^\n",
    "  for (list<int>::iterator it=mylist.begin(); it!=mylist.end(); ++it) cout << ' ' << *it;\n",
    "  /**************** std::list::erase *****************/\n",
    "  return 0;\n",
    "}\n",
    "```"
   ]
  },
  {
   "cell_type": "raw",
   "metadata": {},
   "source": [
    " 10 30 40 50 60 70 80 90\n",
    " 10 30 40 50 60 80 90\n",
    " 10 30 60 80 90"
   ]
  },
  {
   "cell_type": "markdown",
   "metadata": {},
   "source": [
    "```C++\n",
    "#include <iostream>\n",
    "#include <list>\n",
    "\n",
    "using namespace std;\n",
    "\n",
    "int main() {\n",
    "  list<int> first (3,100);   // three ints with a value of 100\n",
    "  list<int> second (5,200);  // five ints with a value of 200\n",
    "\n",
    "  first.swap(second); // Swap content\n",
    "\n",
    "  for (list<int>::iterator it=first.begin(); it!=first.end(); ++it) cout << ' ' << *it;\n",
    "  cout << endl;\n",
    "  for (list<int>::iterator it=second.begin(); it!=second.end(); ++it) cout << ' ' << *it;\n",
    "  cout << endl;\n",
    "\n",
    "  first.clear(); // Clear content\n",
    "\n",
    "  for (int i=1; i<10; ++i) first.push_back(i);\n",
    "\n",
    "  first.resize(5);\n",
    "  for (list<int>::iterator it=first.begin(); it!=first.end(); ++it) cout << ' ' << *it;\n",
    "  cout << endl;\n",
    "\n",
    "  first.resize(8,100);\n",
    "  for (list<int>::iterator it=first.begin(); it!=first.end(); ++it) cout << ' ' << *it;\n",
    "  cout << endl;\n",
    "\n",
    "  first.resize(12);\n",
    "\n",
    "  for (list<int>::iterator it=first.begin(); it!=first.end(); ++it) cout << ' ' << *it;\n",
    "  cout << endl;\n",
    "\n",
    "  return 0;\n",
    "}\n",
    "```"
   ]
  },
  {
   "cell_type": "raw",
   "metadata": {},
   "source": [
    " 200 200 200 200 200\n",
    " 100 100 100\n",
    " 1 2 3 4 5\n",
    " 1 2 3 4 5 100 100 100\n",
    " 1 2 3 4 5 100 100 100 0 0 0 0"
   ]
  },
  {
   "cell_type": "markdown",
   "metadata": {},
   "source": [
    "```C++\n",
    "```"
   ]
  },
  {
   "cell_type": "markdown",
   "metadata": {},
   "source": [
    "```C++\n",
    "```"
   ]
  },
  {
   "cell_type": "markdown",
   "metadata": {},
   "source": [
    "```C++\n",
    "```"
   ]
  },
  {
   "cell_type": "markdown",
   "metadata": {},
   "source": [
    "```C++\n",
    "```"
   ]
  },
  {
   "cell_type": "markdown",
   "metadata": {},
   "source": [
    "```C++\n",
    "```"
   ]
  },
  {
   "cell_type": "markdown",
   "metadata": {},
   "source": [
    "```C++\n",
    "```"
   ]
  },
  {
   "cell_type": "markdown",
   "metadata": {},
   "source": [
    "```C++\n",
    "```"
   ]
  },
  {
   "cell_type": "code",
   "execution_count": null,
   "metadata": {
    "collapsed": true
   },
   "outputs": [],
   "source": []
  }
 ],
 "metadata": {
  "anaconda-cloud": {},
  "kernelspec": {
   "display_name": "Python [default]",
   "language": "python",
   "name": "python2"
  },
  "language_info": {
   "codemirror_mode": {
    "name": "ipython",
    "version": 2
   },
   "file_extension": ".py",
   "mimetype": "text/x-python",
   "name": "python",
   "nbconvert_exporter": "python",
   "pygments_lexer": "ipython2",
   "version": "2.7.12"
  }
 },
 "nbformat": 4,
 "nbformat_minor": 1
}
